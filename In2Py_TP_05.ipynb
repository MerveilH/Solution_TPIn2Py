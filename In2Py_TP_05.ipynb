{
 "cells": [
  {
   "cell_type": "markdown",
   "id": "50422c60",
   "metadata": {
    "colab_type": "text",
    "id": "view-in-github"
   },
   "source": [
    "<a href=\"https://colab.research.google.com/github/gabayae/colab-notebooks-in2py/blob/main/In2Py_TP_05.ipynb\" target=\"_parent\"><img src=\"https://colab.research.google.com/assets/colab-badge.svg\" alt=\"Open In Colab\"/></a>"
   ]
  },
  {
   "cell_type": "markdown",
   "id": "QYZn2ujP9tcA",
   "metadata": {
    "id": "QYZn2ujP9tcA"
   },
   "source": [
    "\n",
    "\n",
    "### <center> <b> <span style=\"color:blue;\"> Travaux Pratiques: Fonctions</span> </b></center>\n",
    "\n"
   ]
  },
  {
   "cell_type": "markdown",
   "id": "iMDzVKcl9tcE",
   "metadata": {
    "id": "iMDzVKcl9tcE"
   },
   "source": [
    "#### **Exercice 00:**  \n",
    "> **Écrire une fonction `cube` qui retourne le cube de son argument.**"
   ]
  },
  {
   "cell_type": "code",
   "execution_count": 2,
   "id": "ccb6eb8e",
   "metadata": {},
   "outputs": [
    {
     "data": {
      "text/plain": [
       "125"
      ]
     },
     "execution_count": 2,
     "metadata": {},
     "output_type": "execute_result"
    }
   ],
   "source": [
    "def cube(n):\n",
    "    \"\"\" fonction cube qui retourne le cube de son argument \"\"\"\n",
    "    return n**3\n",
    "\n",
    "cube(5)"
   ]
  },
  {
   "cell_type": "markdown",
   "id": "m1ac89qS9tcH",
   "metadata": {
    "id": "m1ac89qS9tcH"
   },
   "source": [
    "#### **Exercice 01:**  \n",
    "> **Déclarez une fonction `ajouter_deux_nombres`. Elle prend deux paramètres et renvoie leur somme.**"
   ]
  },
  {
   "cell_type": "code",
   "execution_count": 3,
   "id": "E_AgGmNy9tcH",
   "metadata": {
    "id": "E_AgGmNy9tcH"
   },
   "outputs": [
    {
     "data": {
      "text/plain": [
       "7"
      ]
     },
     "execution_count": 3,
     "metadata": {},
     "output_type": "execute_result"
    }
   ],
   "source": [
    "def  ajouter_deux_nombres(a , b):\n",
    "    \"\"\" Prend deux paramètres et renvoie leur somme \"\"\"\n",
    "    return a + b\n",
    "\n",
    "ajouter_deux_nombres(5,2)"
   ]
  },
  {
   "cell_type": "markdown",
   "id": "PKjvAV4y9tcJ",
   "metadata": {
    "id": "PKjvAV4y9tcJ"
   },
   "source": [
    "#### **Exercice 02:**  \n",
    "> **L'aire d'un cercle se calcule comme suit : aire = pi x r x r avec pi=3,14. Écrivez une fonction `aire_du_cercle` qui prend le rayon en argument et calcule l'aire du cercle correspodant.**"
   ]
  },
  {
   "cell_type": "code",
   "execution_count": 4,
   "id": "AxGzHKXX9tcL",
   "metadata": {
    "id": "AxGzHKXX9tcL"
   },
   "outputs": [
    {
     "data": {
      "text/plain": [
       "78.5"
      ]
     },
     "execution_count": 4,
     "metadata": {},
     "output_type": "execute_result"
    }
   ],
   "source": [
    "def aire_du_cercle(r):\n",
    "    \"\"\"Prend le rayon en argument et calcule l'aire du cercle correspodant\"\"\"\n",
    "    pi = 3.14\n",
    "    aire = pi*r*r\n",
    "    return aire\n",
    "aire_du_cercle(5)"
   ]
  },
  {
   "cell_type": "markdown",
   "id": "6OBRL3oj9tcL",
   "metadata": {
    "id": "6OBRL3oj9tcL"
   },
   "source": [
    "#### **Exercice 03:**  \n",
    "> **La température en °C peut être convertie en °F à l'aide de cette formule : °F = (°C x 9/5) + 32. Écrivez une fonction `convert_celsius_en_fahrenheit` qui convertit les °C en °F**."
   ]
  },
  {
   "cell_type": "code",
   "execution_count": 5,
   "id": "LpDPEBxn9tcN",
   "metadata": {
    "colab": {
     "base_uri": "https://localhost:8080/"
    },
    "id": "LpDPEBxn9tcN",
    "outputId": "7c62c4a2-828a-4eea-e995-a89e3acda0ed"
   },
   "outputs": [
    {
     "name": "stdout",
     "output_type": "stream",
     "text": [
      "Enter the value in celsius 80\n",
      "176.0\n"
     ]
    }
   ],
   "source": [
    "C=float(input('Enter the value in celsius '))\n",
    "def Fahre(C):\n",
    "    \"\"\"Convertit les °C en °F\"\"\"\n",
    "    F=(C*9/5)+32\n",
    "    return F\n",
    "\n",
    "print(Fahre(C))\n"
   ]
  },
  {
   "cell_type": "markdown",
   "id": "rJRPsZ2h9tcP",
   "metadata": {
    "id": "rJRPsZ2h9tcP"
   },
   "source": [
    "#### **Exercice 04:** \n",
    ">**Écrire une fonction somme avec un argument « tuple de longueur variable » qui calcule la somme des nombres contenus dans le tuple.Tester cette fonction par des appels avec différents tuples d’entiers ou de flottants.**"
   ]
  },
  {
   "cell_type": "code",
   "execution_count": 12,
   "id": "7qn8Czdc9tcP",
   "metadata": {
    "colab": {
     "base_uri": "https://localhost:8080/"
    },
    "id": "7qn8Czdc9tcP",
    "outputId": "998d9d34-3e4c-4a64-f02e-9faa0ff36abe"
   },
   "outputs": [
    {
     "name": "stdout",
     "output_type": "stream",
     "text": [
      "13\n",
      "13.954699999999999\n"
     ]
    }
   ],
   "source": [
    "def somme(x):\n",
    "    \"\"\"calcule la somme des nombres contenus dans un tuple passé en paramètre\"\"\"\n",
    "    y = sum(x)\n",
    "    return y\n",
    "t = (1, 2 , 10)\n",
    "print(somme(t))\n",
    "\n",
    "g = (1.5547, 2.4 , 10)\n",
    "print(somme(g))\n",
    "\n"
   ]
  },
  {
   "cell_type": "markdown",
   "id": "kls1kYNh9tcR",
   "metadata": {
    "id": "kls1kYNh9tcR"
   },
   "source": [
    "#### **Exercice 05:** \n",
    ">**Ecrire `somme_liste` qui calcule la somme des nombres contenus dans une liste.Tester cette fonction par des appels avec différents listes d’entiers ou de flottants.**"
   ]
  },
  {
   "cell_type": "code",
   "execution_count": 13,
   "id": "67c54f0e",
   "metadata": {},
   "outputs": [
    {
     "name": "stdout",
     "output_type": "stream",
     "text": [
      "13\n",
      "13.954699999999999\n"
     ]
    }
   ],
   "source": [
    "def somme_liste(x):\n",
    "    \"\"\"Calcule la somme des nombres contenus dans une liste\"\"\"\n",
    "    y = sum(x)\n",
    "    return y\n",
    "\n",
    "t = [1, 2 , 10]\n",
    "print(somme(t))\n",
    "\n",
    "g = [1.5547, 2.4 , 10]\n",
    "print(somme(g))\n"
   ]
  },
  {
   "cell_type": "markdown",
   "id": "l4gQECfk9tcS",
   "metadata": {
    "id": "l4gQECfk9tcS"
   },
   "source": [
    "#### **Exercice 06:** \n",
    ">**Écrire une fonction somme qui  prend en argument un entier $n$ et retourne la somme  des $n$-prémiers entiers naturels.**"
   ]
  },
  {
   "cell_type": "code",
   "execution_count": 15,
   "id": "c4997557",
   "metadata": {},
   "outputs": [
    {
     "data": {
      "text/plain": [
       "45"
      ]
     },
     "execution_count": 15,
     "metadata": {},
     "output_type": "execute_result"
    }
   ],
   "source": [
    "def n_premiers(n):\n",
    "    \"\"\"Prend en argument un entier 𝑛 et retourne la somme des 𝑛-prémiers entiers naturels\"\"\"\n",
    "    s = 0\n",
    "    for i in range(n):\n",
    "        s = s + i\n",
    "    return s\n",
    "n_premiers(10)"
   ]
  },
  {
   "cell_type": "markdown",
   "id": "tK9EsjZf9tcU",
   "metadata": {
    "id": "tK9EsjZf9tcU"
   },
   "source": [
    "#### **Exercice 07:** \n",
    ">**Écrire une fonction `nom` qui demande à l'utilisateur d'entrer son nom ensuite son prénom et affiche son prénom suivit de son nom.**"
   ]
  },
  {
   "cell_type": "code",
   "execution_count": 19,
   "id": "7cf98ef2",
   "metadata": {},
   "outputs": [
    {
     "name": "stdout",
     "output_type": "stream",
     "text": [
      "Nom  =HOUENAGNON\n",
      "Prénom = Merveil\n",
      "Vous vous appelez  Merveil HOUENAGNON\n"
     ]
    }
   ],
   "source": [
    "def nom():\n",
    "    \"\"\"demande à l'utilisateur d'entrer son nom ensuite son prénom et affiche son \n",
    "                        prénom suivit de son nom\"\"\"\n",
    "    n = input(\"Nom  =\")\n",
    "    p = input(\"Prénom = \")\n",
    "    print(\"Vous vous appelez \", p, n)\n",
    "\n",
    "nom()"
   ]
  },
  {
   "cell_type": "markdown",
   "id": "YSwrwcEz9tcX",
   "metadata": {
    "id": "YSwrwcEz9tcX"
   },
   "source": [
    "#### **Exercice 08:** \n",
    ">**Écrire une fonction `nom` qui demande à l'utilisateur d'entrer son nom ensuite son prénom et affiche son prénom suivit de son nom.**"
   ]
  },
  {
   "cell_type": "code",
   "execution_count": null,
   "id": "mRk-8h1P9tcZ",
   "metadata": {
    "id": "mRk-8h1P9tcZ"
   },
   "outputs": [],
   "source": [
    "def nom():\n",
    "    \"\"\"Demande à l'utilisateur d'entrer son nom ensuite son prénom \n",
    "            et affiche son prénom suivit de son nom\"\"\"\n",
    "    n = input(\"Nom  =\")\n",
    "    p = input(\"Prénom = \")\n",
    "    print(\"Vous vous appelez \", p, n)\n",
    "\n",
    "nom()"
   ]
  },
  {
   "cell_type": "markdown",
   "id": "VYtzHXAd9tck",
   "metadata": {
    "id": "VYtzHXAd9tck"
   },
   "source": [
    "#### **Exercice 09:** \n",
    ">**Ecris une fonction `Maximum` qui renvoie le minimum de trois nombres.**"
   ]
  },
  {
   "cell_type": "code",
   "execution_count": 20,
   "id": "6f14eb86",
   "metadata": {},
   "outputs": [
    {
     "data": {
      "text/plain": [
       "5"
      ]
     },
     "execution_count": 20,
     "metadata": {},
     "output_type": "execute_result"
    }
   ],
   "source": [
    "def Maximum(a, b, c):\n",
    "    \"\"\"Renvoie le minimum de trois nombres\"\"\"\n",
    "    t = [a, b, c]\n",
    "    return min(t)\n",
    "\n",
    "Maximum(4, -1, 5)"
   ]
  },
  {
   "cell_type": "markdown",
   "id": "gTpTAnGm9tcm",
   "metadata": {
    "id": "gTpTAnGm9tcm"
   },
   "source": [
    "#### **Exercice 10:**\n",
    ">**Soit $f(x)=ax^2+bx+c$ un trinôme du second degré.**\n",
    " 1. **Ecris une fonction `Discriminant` qui calcule son discriminant.**\n",
    " 2. **Ecris ensuite une fonction `existence_des_racines_du_trinome` qui discute suivant les valeurs du discriminant, l'existence de ses racines.** \n"
   ]
  },
  {
   "cell_type": "code",
   "execution_count": 1,
   "id": "dce76d7d",
   "metadata": {},
   "outputs": [
    {
     "name": "stdout",
     "output_type": "stream",
     "text": [
      "Deux solutions distinctes\n"
     ]
    }
   ],
   "source": [
    "def Discriminant(a, b, c):\n",
    "    \"\"\"Calcule discriminant d'une fonction Discriminant\"\"\"\n",
    "    d = b**2 -(4*a*c)\n",
    "    return d\n",
    "Discriminant(2, 3, 1)\n",
    "\n",
    "def existence_des_racines_du_trinome(a, b, c):\n",
    "    \"\"\" discute suivant les valeurs du discriminant, l'existence de ses racines\"\"\"\n",
    "    d = Discriminant(a, b, c)\n",
    "    if d == 0 :\n",
    "        print(\"Solution double\")\n",
    "    elif d > 0 :\n",
    "        print(\"Deux solutions distinctes\")\n",
    "    else :\n",
    "        print(\"Pas de solution\")\n",
    "\n",
    "existence_des_racines_du_trinome(2, 3 ,1)"
   ]
  },
  {
   "cell_type": "markdown",
   "id": "WgJ06GHA9tcn",
   "metadata": {
    "id": "WgJ06GHA9tcn"
   },
   "source": [
    "#### **Exercice 11:**\n",
    ">**Ecris une fonction qui affiche le reste de la division euclidienne d'un entier naturel $a$ par un entier naturel $b$**.\n"
   ]
  },
  {
   "cell_type": "code",
   "execution_count": 27,
   "id": "S1uM-Jca9tcn",
   "metadata": {
    "id": "S1uM-Jca9tcn"
   },
   "outputs": [
    {
     "data": {
      "text/plain": [
       "3"
      ]
     },
     "execution_count": 27,
     "metadata": {},
     "output_type": "execute_result"
    }
   ],
   "source": [
    "def eucli(a, b):\n",
    "    \"\"\"affiche le reste de la division euclidienne d'un \n",
    "                entier naturel 𝑎 par un entier naturel 𝑏\"\"\"\n",
    "    return a%b\n",
    "eucli(17,7)"
   ]
  },
  {
   "cell_type": "markdown",
   "id": "dtC_cOVJ9tco",
   "metadata": {
    "id": "dtC_cOVJ9tco"
   },
   "source": [
    "#### **Exercice 12:**\n",
    ">**Ecris une fonction `terme_suite_geometrique` qui affiche le n-ième terme d'une suite géométrique $(v_n)$ de premier terme $v_0$ et de raison $q$. Teste ce programme pour $v_0=2, q=3$ et $n=4$.**"
   ]
  },
  {
   "cell_type": "code",
   "execution_count": 32,
   "id": "TeLDRV8N9tco",
   "metadata": {
    "id": "TeLDRV8N9tco"
   },
   "outputs": [
    {
     "data": {
      "text/plain": [
       "162"
      ]
     },
     "execution_count": 32,
     "metadata": {},
     "output_type": "execute_result"
    }
   ],
   "source": [
    "def terme_suite_geometrique(v, q, n):\n",
    "    \"\"\"affiche le n-ième terme d'une suite géométrique (𝑣𝑛)\n",
    "            de premier terme 𝑣0 et de raison 𝑞\"\"\"\n",
    "    return v *(q**n)\n",
    "terme_suite_geometrique(2 , 3, 4)"
   ]
  },
  {
   "cell_type": "markdown",
   "id": "GrmGuHwu9tco",
   "metadata": {
    "id": "GrmGuHwu9tco"
   },
   "source": [
    "#### **Exercice 13:**\n",
    ">**Écris une fonction `merci` prend en paramètre un `nom` et renvoie le message \"Merci pour votre présence à cet atelier,`nom`.**\n"
   ]
  },
  {
   "cell_type": "code",
   "execution_count": 2,
   "id": "0c1b925b",
   "metadata": {},
   "outputs": [
    {
     "name": "stdout",
     "output_type": "stream",
     "text": [
      "Merci pour votre présence à cet atelier, Merveil\n"
     ]
    }
   ],
   "source": [
    "def merci(n):\n",
    "    \"\"\"prend en paramètre un nom et renvoie le message \n",
    "        \"Merci pour votre présence à cet atelier,nom\"\"\"\n",
    "    print(\"Merci pour votre présence à cet atelier,\",n)\n",
    "    \n",
    "merci(\"Merveil\")"
   ]
  },
  {
   "cell_type": "markdown",
   "id": "T3jopRLc9tco",
   "metadata": {
    "id": "T3jopRLc9tco"
   },
   "source": [
    "#### **Exercice 14:**\n",
    ">**Écris une fonction `ma_suite` qui définit la suite $(u_n)$ telle que  $$u_{n}=\\frac{2n^2+3n-1}{n+6}.$$\n",
    "Affiche son 5e terme.**\n"
   ]
  },
  {
   "cell_type": "code",
   "execution_count": 37,
   "id": "P1l82riw9tcp",
   "metadata": {
    "id": "P1l82riw9tcp"
   },
   "outputs": [
    {
     "data": {
      "text/plain": [
       "5.818181818181818"
      ]
     },
     "execution_count": 37,
     "metadata": {},
     "output_type": "execute_result"
    }
   ],
   "source": [
    "def ma_suite(n):\n",
    "    \"\"\"Définir une suite et affiche son 5ème\"\"\"\n",
    "    num = (2*n*n) + (3*n) - 1\n",
    "    den = n + 6\n",
    "    return num/den\n",
    "ma_suite(5)"
   ]
  },
  {
   "cell_type": "markdown",
   "id": "SIizzU_A9tcp",
   "metadata": {
    "id": "SIizzU_A9tcp"
   },
   "source": [
    "\n",
    "\n",
    "<center> <b> <span style=\"color:orange;\"> 🎉 FÉLICITATIONS ! 🎉 </span> </b></center>"
   ]
  }
 ],
 "metadata": {
  "colab": {
   "collapsed_sections": [],
   "include_colab_link": true,
   "name": "In2Py_TP_05.ipynb",
   "provenance": []
  },
  "kernelspec": {
   "display_name": "Python 3 (ipykernel)",
   "language": "python",
   "name": "python3"
  },
  "language_info": {
   "codemirror_mode": {
    "name": "ipython",
    "version": 3
   },
   "file_extension": ".py",
   "mimetype": "text/x-python",
   "name": "python",
   "nbconvert_exporter": "python",
   "pygments_lexer": "ipython3",
   "version": "3.8.10"
  }
 },
 "nbformat": 4,
 "nbformat_minor": 5
}
