{
 "cells": [
  {
   "cell_type": "markdown",
   "metadata": {
    "colab_type": "text",
    "id": "view-in-github"
   },
   "source": [
    "<a href=\"https://colab.research.google.com/github/gabayae/colab-notebooks-in2py/blob/main/In2Py_TP_03.ipynb\" target=\"_parent\"><img src=\"https://colab.research.google.com/assets/colab-badge.svg\" alt=\"Open In Colab\"/></a>"
   ]
  },
  {
   "cell_type": "markdown",
   "metadata": {
    "id": "12_fdbLn8p4A"
   },
   "source": [
    "\n",
    "\n",
    "### <center> <b> <span style=\"color:blue;\"> Travaux Pratiques: Objets itérables ou conteneurs</span> </b></center>\n"
   ]
  },
  {
   "cell_type": "markdown",
   "metadata": {
    "id": "E_ZB23H68p4D"
   },
   "source": [
    "###  <center> <b> <span style=\"color:blue;\"> Listes </span> </b></center>"
   ]
  },
  {
   "cell_type": "code",
   "execution_count": null,
   "metadata": {
    "id": "TAzYC_Ev8p4F"
   },
   "outputs": [],
   "source": []
  },
  {
   "cell_type": "markdown",
   "metadata": {
    "id": "H0cIcjGk8p4G"
   },
   "source": [
    "#### **Exercice 00:** \n",
    ">**Déclarer une liste vide.**"
   ]
  },
  {
   "cell_type": "code",
   "execution_count": null,
   "metadata": {
    "colab": {
     "base_uri": "https://localhost:8080/"
    },
    "id": "45QEMilz8p4I",
    "outputId": "57f37201-144a-47a3-e0b3-98f739633dd8"
   },
   "outputs": [
    {
     "name": "stdout",
     "output_type": "stream",
     "text": [
      "[]\n"
     ]
    }
   ],
   "source": [
    "x=list()\n",
    "print(x)"
   ]
  },
  {
   "cell_type": "markdown",
   "metadata": {
    "id": "zZ0XnwpB8p4J"
   },
   "source": [
    "#### **Exercice 01:** \n",
    ">**Déclarer une liste de plus de 5 éléments.**"
   ]
  },
  {
   "cell_type": "code",
   "execution_count": 1,
   "metadata": {
    "colab": {
     "base_uri": "https://localhost:8080/"
    },
    "id": "HV32hLfA8p4L",
    "outputId": "2e6512ac-fc27-44ae-aedf-b72deb0c9453"
   },
   "outputs": [
    {
     "name": "stdout",
     "output_type": "stream",
     "text": [
      "[0, 1, 2, 3, 4, 5, 6]\n"
     ]
    }
   ],
   "source": [
    "x=list(range(0,7))\n",
    "print(x)"
   ]
  },
  {
   "cell_type": "markdown",
   "metadata": {
    "id": "tJpy6kNz8p4M"
   },
   "source": [
    "#### **Exercice 02:** \n",
    ">**Trouver la longueur de votre liste.**"
   ]
  },
  {
   "cell_type": "code",
   "execution_count": null,
   "metadata": {
    "colab": {
     "base_uri": "https://localhost:8080/"
    },
    "id": "627A_RNw8p4O",
    "outputId": "9e39a0a0-a25f-4234-ff08-88d11eb6f96b"
   },
   "outputs": [
    {
     "data": {
      "text/plain": [
       "7"
      ]
     },
     "execution_count": 5,
     "metadata": {},
     "output_type": "execute_result"
    }
   ],
   "source": [
    "len(x)"
   ]
  },
  {
   "cell_type": "markdown",
   "metadata": {
    "id": "unFrwT5t8p4Q"
   },
   "source": [
    "#### **Exercice 03:** \n",
    ">**Obtenez le premier élément, l'élément central et le dernier élément de la liste.**\n",
    "\n"
   ]
  },
  {
   "cell_type": "code",
   "execution_count": 3,
   "metadata": {
    "colab": {
     "base_uri": "https://localhost:8080/"
    },
    "id": "MUuc1gaQ8p4R",
    "outputId": "ba6e79d3-7361-4cae-f4b3-dfa6e90772e6"
   },
   "outputs": [
    {
     "name": "stdout",
     "output_type": "stream",
     "text": [
      " 0\n",
      " 3\n",
      " 6\n"
     ]
    }
   ],
   "source": [
    "print('',x[0])\n",
    "print('',x[((len(x)-1)//2)])\n",
    "print('',x[-1])"
   ]
  },
  {
   "cell_type": "markdown",
   "metadata": {
    "id": "4Rqp8q0L8p4R"
   },
   "source": [
    "#### **Exercice 04:** \n",
    ">**Déclarez une liste appelée mixed_data_types, mettez votre (nom, âge, taille, état civil, adresse).**"
   ]
  },
  {
   "cell_type": "code",
   "execution_count": 9,
   "metadata": {
    "id": "EoZPW2UH8p4S"
   },
   "outputs": [
    {
     "name": "stdout",
     "output_type": "stream",
     "text": [
      "('nom', 'âge', 'taille', 'état civil', 'adresse')\n"
     ]
    }
   ],
   "source": [
    "mixed_data_types = ('nom', 'âge', 'taille', 'état civil', 'adresse')\n",
    "print(mixed_data_types)"
   ]
  },
  {
   "cell_type": "markdown",
   "metadata": {
    "id": "OPYSNV1l8p4T"
   },
   "source": [
    "#### **Exercice 05:** \n",
    "\n",
    "    1. Déclarez une variable liste appelée it_companies et attribuez les valeurs initiales Facebook, Google, Microsoft, Apple, IBM, Oracle et Amazon.\n",
    "\n",
    "    2. Imprimez la liste à l'aide de print()\n",
    "\n",
    "    3. Imprimez le nombre d'entreprises dans la liste\n",
    "\n",
    "    4. Imprimez la première, la moyenne et la dernière entreprise\n",
    "\n",
    "    5. Imprimez la liste après avoir modifié l'une des entreprises.\n",
    "\n",
    "    6. Ajout d'une entreprise informatique à it_companies\n",
    "\n",
    "    7. Insérer une entreprise informatique au milieu de la liste des entreprises\n",
    "\n",
    "    8. Changez le nom d'une des it_companies en majuscule (sauf IBM !)\n",
    "\n",
    "    9. Joignez les it_companies avec une chaîne '# ; '.\n",
    "\n",
    "    10. Vérifier si une certaine entreprise existe dans la liste it_companies.\n",
    "\n",
    "    11. Trier la liste en utilisant la méthode sort()\n",
    "\n",
    "    12. Inversez la liste par ordre décroissant à l'aide de la méthode reverse().\n",
    "\n",
    "    13. Supprimez les 3 premières entreprises de la liste.\n",
    "\n",
    "    14. Supprimez les 3 dernières entreprises de la liste.\n",
    "\n",
    "    15. Supprimez la ou les entreprises informatiques du milieu de la liste.\n",
    "\n",
    "    16. Supprimez la première entreprise informatique de la liste\n",
    "\n",
    "    17. Supprimez la ou les entreprises informatiques du milieu de la liste.\n",
    "\n",
    "    18. Retirer la dernière entreprise informatique de la liste\n",
    "\n",
    "    19. Supprimez toutes les entreprises informatiques de la liste\n",
    "\n",
    "    20. Détruire la liste des entreprises informatiques"
   ]
  },
  {
   "cell_type": "code",
   "execution_count": 84,
   "metadata": {
    "id": "4M_XODba8p4V"
   },
   "outputs": [
    {
     "name": "stdout",
     "output_type": "stream",
     "text": [
      "----------------------------------------------------------------------------------\n",
      "1-Liste: ['Facebook', 'Google', 'Microsoft', 'Apple', 'IBM', 'Oracle', 'Amazon']\n",
      "----------------------------------------------------------------------------------\n",
      "2-Nombre d'entreprises :  7\n",
      "----------------------------------------------------------------------------------\n",
      "3-Première entreprise :  Facebook\n",
      "Moyenne entrprise :  Apple\n",
      "Dernière entreprise :  Amazon\n",
      "----------------------------------------------------------------------------------\n",
      "4-Liste: ['Facebook', 'Google', 'Microsoft', 'Tiktok', 'IBM', 'Oracle', 'Amazon']\n",
      "----------------------------------------------------------------------------------\n",
      "5-Liste: ['Facebook', 'Google', 'Microsoft', 'Tiktok', 'IBM', 'Oracle', 'Amazon', 'Apple']\n",
      "----------------------------------------------------------------------------------\n",
      "6-Liste: ['Facebook', 'Google', 'Microsoft', 'Tiktok', 'Hmdt', 'IBM', 'Oracle', 'Amazon', 'Apple']\n",
      "----------------------------------------------------------------------------------\n",
      "7-Liste: ['Facebook', 'Google', 'Microsoft', 'TIKTOK', 'Hmdt', 'IBM', 'Oracle', 'Amazon', 'Apple']\n",
      "----------------------------------------------------------------------------------\n",
      "8-Jointure: ['Facebook', 'Google', 'Microsoft', 'TIKTOK', 'Hmdt', 'IBM', 'Oracle', 'Amazon', 'Apple', '# ; ']\n",
      "----------------------------------------------------------------------------------\n",
      "9- Variable Amazon existe à la position :  7\n",
      "----------------------------------------------------------------------------------\n",
      "10-Tri-list :  ['# ; ', 'Amazon', 'Apple', 'Facebook', 'Google', 'Hmdt', 'IBM', 'Microsoft', 'Oracle', 'TIKTOK']\n",
      "----------------------------------------------------------------------------------\n",
      "11-reverse-list :  ['TIKTOK', 'Oracle', 'Microsoft', 'IBM', 'Hmdt', 'Google', 'Facebook', 'Apple', 'Amazon', '# ; ']\n",
      "----------------------------------------------------------------------------------\n",
      "12-after_supp_list :  ['IBM', 'Hmdt', 'Google', 'Facebook', 'Apple', 'Amazon', '# ; ']\n",
      "----------------------------------------------------------------------------------\n",
      "13-after_supp_list :  ['IBM', 'Hmdt', 'Google', 'Facebook']\n",
      "----------------------------------------------------------------------------------\n",
      "14-after_supp_list :  ['IBM', 'Facebook']\n",
      "----------------------------------------------------------------------------------\n",
      "15-after_supp_list :  ['Facebook']\n",
      "----------------------------------------------------------------------------------\n",
      "17-after_supp_all :  []\n",
      "----------------------------------------------------------------------------------\n"
     ]
    }
   ],
   "source": [
    "#1. Déclaration d'une variable liste appelée it_companies \n",
    "it_companies = [\"Facebook\", \"Google\", \"Microsoft\", \"Apple\", \"IBM\", \"Oracle\", \"Amazon\"]\n",
    "\n",
    "#2. Imprimez la liste à l'aide de print()\n",
    "print(\"----------------------------------------------------------------------------------\")\n",
    "print(\"1-Liste:\",it_companies)\n",
    "\n",
    "#3. Imprimez le nombre d'entreprises dans la liste\n",
    "print(\"----------------------------------------------------------------------------------\")\n",
    "print(\"2-Nombre d'entreprises : \", len(it_companies))\n",
    "\n",
    "#4. Imprimez la première, la moyenne et la dernière entreprise\n",
    "print(\"----------------------------------------------------------------------------------\")\n",
    "print(\"3-Première entreprise : \", it_companies[0])\n",
    "print(\"Moyenne entrprise : \", it_companies[(len(it_companies)//2)])\n",
    "print(\"Dernière entreprise : \", it_companies[-1])\n",
    "\n",
    "# 5. Imprimez la liste après avoir modifié l'une des entreprises.\n",
    "print(\"----------------------------------------------------------------------------------\")\n",
    "it_companies[3] = \"Tiktok\"\n",
    "print(\"4-Liste:\", it_companies)\n",
    "\n",
    "# 6. Ajout d'une entreprise informatique à it_companies\n",
    "print(\"----------------------------------------------------------------------------------\")\n",
    "it_companies.append(\"Apple\")\n",
    "print(\"5-Liste:\", it_companies)\n",
    "\n",
    "#7. Insérer une entreprise informatique au milieu de la liste des entreprises\n",
    "print(\"----------------------------------------------------------------------------------\")\n",
    "it_companies.insert((len(it_companies) - 1)//2 +1 , 'Hmdt')\n",
    "print(\"6-Liste:\", it_companies)\n",
    "\n",
    "#8. Changez le nom d'une des it_companies en majuscule (sauf IBM !)\n",
    "print(\"----------------------------------------------------------------------------------\")\n",
    "it_companies[3] = it_companies[3].upper()\n",
    "print(\"7-Liste:\", it_companies)\n",
    "\n",
    "# 9. Joignez les it_companies avec une chaîne '# ; '\n",
    "print(\"----------------------------------------------------------------------------------\")\n",
    "chaine = ['# ; ']\n",
    "it_companies = it_companies + chaine\n",
    "print(\"8-Jointure:\", it_companies)\n",
    "\n",
    "#10. Vérifier si une certaine entreprise existe dans la liste it_companies.\n",
    "print(\"----------------------------------------------------------------------------------\")\n",
    "print(\"9- Variable Amazon existe à la position : \", it_companies.index(\"Amazon\"))\n",
    "\n",
    "#11. Trier la liste en utilisant la méthode sort()\n",
    "print(\"----------------------------------------------------------------------------------\")\n",
    "it_companies.sort()\n",
    "print(\"10-Tri-list : \", it_companies)\n",
    "\n",
    "#12. Inversez la liste par ordre décroissant à l'aide de la méthode reverse()\n",
    "print(\"----------------------------------------------------------------------------------\")\n",
    "it_companies.reverse()\n",
    "print(\"11-reverse-list : \", it_companies)\n",
    "\n",
    "#13. Supprimez les 3 premières entreprises de la liste.\n",
    "print(\"----------------------------------------------------------------------------------\")\n",
    "it_companies.pop(0)\n",
    "it_companies.pop(0)\n",
    "it_companies.pop(0)\n",
    "print(\"12-after_supp_list : \", it_companies)\n",
    "\n",
    "#14. Supprimez les 3 dernières entreprises de la liste.\n",
    "print(\"----------------------------------------------------------------------------------\")\n",
    "it_companies.pop(len(it_companies) - 1)\n",
    "it_companies.pop(len(it_companies) - 1)\n",
    "it_companies.pop(len(it_companies) - 1)\n",
    "print(\"13-after_supp_list : \", it_companies)\n",
    "\n",
    "# 15. Supprimez la ou les entreprises informatiques du milieu de la liste.\n",
    "print(\"----------------------------------------------------------------------------------\")\n",
    "it_companies.pop((len(it_companies) - 1)//2)\n",
    "it_companies.pop((len(it_companies) - 1)//2)\n",
    "print(\"14-after_supp_list : \", it_companies)\n",
    "\n",
    "#16. Supprimez la première entreprise informatique de la liste\n",
    "print(\"----------------------------------------------------------------------------------\")\n",
    "it_companies.pop(0)\n",
    "print(\"15-after_supp_list : \", it_companies)\n",
    "\n",
    "# 19. Supprimez toutes les entreprises informatiques de la liste\n",
    "print(\"----------------------------------------------------------------------------------\")\n",
    "it_companies.clear()\n",
    "print(\"17-after_supp_all : \", it_companies)\n",
    "\n",
    "#20. Détruire la liste des entreprises informatiques\n",
    "print(\"----------------------------------------------------------------------------------\")\n",
    "del(it_companies)\n"
   ]
  },
  {
   "cell_type": "markdown",
   "metadata": {
    "id": "AfauolZA8p4V"
   },
   "source": [
    "#### **Exercice 06:** \n",
    "**Joindre les listes suivantes :**\n",
    "     \n",
    "         front_end = ['HTML', 'CSS', 'JS', 'React', 'Redux']  \n",
    "         back_end = ['Node','Express', 'MongoDB']"
   ]
  },
  {
   "cell_type": "code",
   "execution_count": 17,
   "metadata": {
    "colab": {
     "base_uri": "https://localhost:8080/"
    },
    "id": "6V8OXDSW8p4W",
    "outputId": "1b627109-6515-4c20-df97-d8bd6fa760f6"
   },
   "outputs": [
    {
     "name": "stdout",
     "output_type": "stream",
     "text": [
      " ['HTML', 'CSS', 'JS', 'React', 'Redux', 'Node', 'Express', 'MongoDB']\n"
     ]
    }
   ],
   "source": [
    "front_end = ['HTML', 'CSS', 'JS', 'React', 'Redux']  \n",
    "back_end = ['Node','Express', 'MongoDB']\n",
    "print('',front_end+back_end)"
   ]
  },
  {
   "cell_type": "markdown",
   "metadata": {
    "id": "kASFM1bh8p4X"
   },
   "source": [
    "#### **Exercice 07:** \n",
    "Voici une liste de 10 âges d'étudiants :\n",
    "\n",
    "         ages = [19, 22, 19, 24, 20, 25, 26, 24, 25, 24]\n",
    "         \n",
    " \n",
    "    1. Trier la liste et trouver l'âge minimum et maximum.\n",
    "    2. Ajoutez à nouveau l'âge minimum et l'âge maximum à la liste.\n",
    "    3. Trouvez l'âge médian (un élément du milieu ou deux éléments du milieu divisés par deux).\n",
    "    4. Trouvez l'âge moyen (somme de tous les éléments divisée par leur nombre).\n",
    "    4. Trouver l'intervalle des âges (max moins min)\n",
    "    5. Comparez les valeurs de (min - moyenne) et (max - moyenne) en utilisant la méthode abs().\n",
    "        "
   ]
  },
  {
   "cell_type": "code",
   "execution_count": 142,
   "metadata": {
    "colab": {
     "base_uri": "https://localhost:8080/"
    },
    "id": "TWTGGaOO8p4Z",
    "outputId": "d64f879c-1074-464a-cc60-23a7ae032b29"
   },
   "outputs": [
    {
     "name": "stdout",
     "output_type": "stream",
     "text": [
      "min=19,max=26\n",
      "[19, 22, 19, 24, 20, 25, 26, 24, 25, 24, 19, 26]\n",
      "----------------------------------------------------------------------------------\n",
      "1 - Age médian :  24\n",
      "2- Age moyen :  24.818181818181817\n",
      "3 -Intervalle ages :  7\n"
     ]
    },
    {
     "data": {
      "text/plain": [
       "True"
      ]
     },
     "execution_count": 142,
     "metadata": {},
     "output_type": "execute_result"
    }
   ],
   "source": [
    "ages = [19, 22, 19, 24, 20, 25, 26, 24, 25, 24]\n",
    "print(\"min={},max={}\".format(min(ages),max(ages)))\n",
    "ages.extend([min(ages),max(ages)])\n",
    "print(ages)\n",
    "# 3. Trouvez l'âge médian\n",
    "print(\"----------------------------------------------------------------------------------\")\n",
    "ages.sort()\n",
    "print(\"1 - Age médian : \", ages[(len(ages) - 1)//2])\n",
    "\n",
    "#Trouvez l'âge moyen\n",
    "ageM = sum(ages)/(len(ages) - 1)\n",
    "print(\"2- Age moyen : \", ageM)\n",
    "\n",
    "#Trouver l'intervalle des âges\n",
    "intervalle = max(ages) - min(ages)\n",
    "print(\"3 -Intervalle ages : \",intervalle)\n",
    "\n",
    "#Comparez les valeurs de (min - moyenne) et (max - moyenne) en utilisant la méthode abs().\n",
    "\n",
    "M1 = abs(min(ages)-moy)\n",
    "M2 = abs(max(ages)-moy)\n",
    "abs(M1)<abs(M2)\n"
   ]
  },
  {
   "cell_type": "code",
   "execution_count": 139,
   "metadata": {
    "colab": {
     "base_uri": "https://localhost:8080/"
    },
    "id": "TEtbXitA8p4h",
    "outputId": "83108157-4675-42ce-c400-1d88fcb98a94"
   },
   "outputs": [
    {
     "data": {
      "text/plain": [
       "False"
      ]
     },
     "execution_count": 139,
     "metadata": {},
     "output_type": "execute_result"
    }
   ],
   "source": [
    "ages[(len(ages)//2)]\n",
    "sum(ages)/l\n",
    "moy=max(ages)-min(ages)\n",
    "abs(min(ages)-moy)\n",
    "abs(max(ages)-moy)\n",
    "abs(min(ages)-moy)>abs(max(ages)-moy)\n"
   ]
  },
  {
   "cell_type": "markdown",
   "metadata": {
    "id": "1f0X_hVGYbNB"
   },
   "source": []
  },
  {
   "cell_type": "markdown",
   "metadata": {
    "id": "bF7FI4iT8p4i"
   },
   "source": [
    "###  <center> <b> <span style=\"color:blue;\"> Dictionnaires </span> </b></center>"
   ]
  },
  {
   "cell_type": "markdown",
   "metadata": {
    "id": "VzcSJMf18p4j"
   },
   "source": [
    "\n",
    "1. Créer un dictionnaire vide appelé `dog`\n",
    "2. Ajoute le nom, la couleur, la race, les pattes, l'âge au dictionnaire dog.\n",
    "3. Créez un dictionnaire student et ajoutez le prénom, le nom, le sexe, l'âge, l'état civil, les compétences, le pays, la ville et l'adresse comme clés pour le dictionnaire.\n",
    "4. Obtenez la longueur du dictionnaire student\n",
    "5. Récupérez la valeur des compétences et vérifiez le type de données, il doit s'agir d'une liste.\n",
    "6. Modifiez les valeurs des compétences en ajoutant une ou deux compétences.\n",
    "7. Obtenez les clés du dictionnaire sous forme de liste\n",
    "8. Obtenir les valeurs du dictionnaire sous forme de liste\n",
    "9. Transformer le dictionnaire en une liste de tuples en utilisant la méthode items()\n",
    "10. Supprimer un des éléments du dictionnaire\n",
    "11. Supprimer un des dictionnaires\n"
   ]
  },
  {
   "cell_type": "code",
   "execution_count": 118,
   "metadata": {
    "colab": {
     "base_uri": "https://localhost:8080/"
    },
    "id": "LJ6DfBUh8p4k",
    "outputId": "725d0091-4c2c-4c6e-ee0a-3cc64c047c7b"
   },
   "outputs": [
    {
     "data": {
      "text/plain": [
       "{'nom': 'chat', 'couleur': 'noir', 'race': 'carni', 'pattes': 4, 'age': 6}"
      ]
     },
     "execution_count": 118,
     "metadata": {},
     "output_type": "execute_result"
    }
   ],
   "source": [
    "dog=dict()\n",
    "dog['nom'],dog['couleur'], dog['race'],dog['pattes'],dog['age']='chat','noir', 'carni',4,6\n",
    "dog"
   ]
  },
  {
   "cell_type": "code",
   "execution_count": 137,
   "metadata": {
    "id": "rNdDqviE8p4l"
   },
   "outputs": [
    {
     "name": "stdout",
     "output_type": "stream",
     "text": [
      "----------------------------------------------------------------------------------\n",
      "Taille : 9\n",
      "----------------------------------------------------------------------------------\n",
      "<class 'list'>\n",
      "----------------------------------------------------------------------------------\n",
      "['maths', 'politique', 'ecriture', 'sapologie', 'chretien']\n",
      "----------------------------------------------------------------------------------\n",
      "dict_keys(['prenom', 'nom', 'sexe', 'age', 'etat civil', 'competances', 'pays', 'ville', 'adresse'])\n",
      "----------------------------------------------------------------------------------\n",
      "dict_values(['chadrack', 'bahati', 'M', 15, 'celibataire', ['maths', 'politique', 'ecriture', 'sapologie', 'chretien'], 'RDC', 'Picho', 'Mbour'])\n",
      "----------------------------------------------------------------------------------\n",
      "{'prenom': 'chadrack', 'nom': 'bahati', 'sexe': 'M', 'age': 15, 'etat civil': 'celibataire', 'competances': ['maths', 'politique', 'ecriture', 'sapologie', 'chretien'], 'pays': 'RDC', 'ville': 'Picho', 'adresse': 'Mbour'}\n",
      "----------------------------------------------------------------------------------\n",
      "{'nom': 'bahati', 'sexe': 'M', 'age': 15, 'etat civil': 'celibataire', 'competances': ['maths', 'politique', 'ecriture', 'sapologie', 'chretien'], 'pays': 'RDC', 'ville': 'Picho', 'adresse': 'Mbour'}\n"
     ]
    }
   ],
   "source": [
    "student={'prenom':'chadrack','nom':'bahati','sexe':'M', 'age':15, 'etat civil':'celibataire','competances':['maths','politique','ecriture'],'pays':'RDC','ville':'Picho','adresse':'Mbour'}\n",
    "#Obtenez la longueur du dictionnaire student\n",
    "print(\"----------------------------------------------------------------------------------\")\n",
    "\n",
    "print(\"Taille :\",len(student))\n",
    "\n",
    "#Récupérez la valeur des compétences et vérifiez le type de données\n",
    "print(\"----------------------------------------------------------------------------------\")\n",
    "\n",
    "print(type(student['competances']))\n",
    "#Modifiez les valeurs des compétences en ajoutant une ou deux compétences.\n",
    "print(\"----------------------------------------------------------------------------------\")\n",
    "student['competances'].extend(['sapologie','chretien'])\n",
    "print(student['competances'])\n",
    "#Obtenez les clés du dictionnaire sous forme de liste\n",
    "print(\"----------------------------------------------------------------------------------\")\n",
    "print(student.keys())\n",
    "#Obtenir les valeurs du dictionnaire sous forme de liste\n",
    "print(\"----------------------------------------------------------------------------------\")\n",
    "print(student.values())\n",
    "\n",
    "#Transformer le dictionnaire en une liste de tuples en utilisant la méthode items()\n",
    "print(\"----------------------------------------------------------------------------------\")\n",
    "student.items()\n",
    "print(student)\n",
    "#Supprimer un des éléments du dictionnaire\n",
    "print(\"----------------------------------------------------------------------------------\")\n",
    "student.pop('prenom')\n",
    "print(student)\n",
    "#Supprimer un des dictionnaires\n",
    "del(dog)\n"
   ]
  },
  {
   "cell_type": "markdown",
   "metadata": {
    "id": "ugc1Itzb8p4l"
   },
   "source": [
    "<center> <b> <span style=\"color:orange;\"> 🎉 FÉLICITATIONS !🎉 </span> </b></center>"
   ]
  }
 ],
 "metadata": {
  "colab": {
   "collapsed_sections": [],
   "include_colab_link": true,
   "name": "In2Py_TP_03.ipynb",
   "provenance": []
  },
  "kernelspec": {
   "display_name": "Python 3 (ipykernel)",
   "language": "python",
   "name": "python3"
  },
  "language_info": {
   "codemirror_mode": {
    "name": "ipython",
    "version": 3
   },
   "file_extension": ".py",
   "mimetype": "text/x-python",
   "name": "python",
   "nbconvert_exporter": "python",
   "pygments_lexer": "ipython3",
   "version": "3.8.10"
  }
 },
 "nbformat": 4,
 "nbformat_minor": 1
}
