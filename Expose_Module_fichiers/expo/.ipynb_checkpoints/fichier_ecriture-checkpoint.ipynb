{
 "cells": [
  {
   "cell_type": "code",
   "execution_count": 6,
   "id": "ed9f08b1",
   "metadata": {},
   "outputs": [
    {
     "data": {
      "text/plain": [
       "4"
      ]
     },
     "execution_count": 6,
     "metadata": {},
     "output_type": "execute_result"
    }
   ],
   "source": [
    "#ouvrir fichier existant en lecture simple\n",
    "doc = open(\"../toto.txt\", \"a\")\n",
    "doc.write(\"Cool\")\n",
    "\n",
    "#ecraser fichier existant\n",
    "doc = open(\"../toto.txt\", \"a\")\n",
    "doc.write(\"Cool\")"
   ]
  },
  {
   "cell_type": "code",
   "execution_count": null,
   "id": "0dbf60ad",
   "metadata": {},
   "outputs": [],
   "source": []
  }
 ],
 "metadata": {
  "kernelspec": {
   "display_name": "Python 3 (ipykernel)",
   "language": "python",
   "name": "python3"
  },
  "language_info": {
   "codemirror_mode": {
    "name": "ipython",
    "version": 3
   },
   "file_extension": ".py",
   "mimetype": "text/x-python",
   "name": "python",
   "nbconvert_exporter": "python",
   "pygments_lexer": "ipython3",
   "version": "3.8.10"
  }
 },
 "nbformat": 4,
 "nbformat_minor": 5
}
