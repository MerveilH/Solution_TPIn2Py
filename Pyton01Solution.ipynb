{
 "cells": [
  {
   "cell_type": "code",
   "execution_count": 4,
   "id": "4f01f7df",
   "metadata": {},
   "outputs": [
    {
     "name": "stdout",
     "output_type": "stream",
     "text": [
      "Entrer un nombre naturel : 4\n",
      "18\n"
     ]
    }
   ],
   "source": [
    "#1-(i)\n",
    "i = 0\n",
    "S = 0\n",
    "n = int(input(\"Entrer un nombre naturel : \"))\n",
    "while i < n :\n",
    "    S = S + i + 3\n",
    "    i = i + 1\n",
    "print(S)"
   ]
  },
  {
   "cell_type": "code",
   "execution_count": 6,
   "id": "f8fae036",
   "metadata": {},
   "outputs": [
    {
     "name": "stdout",
     "output_type": "stream",
     "text": [
      "Entrer un nombre naturel : 4\n",
      "360\n"
     ]
    }
   ],
   "source": [
    "#1 - (ii)\n",
    "i = 0\n",
    "P = 1\n",
    "n = int(input(\"Entrer un nombre naturel : \"))\n",
    "while i < n :\n",
    "    P = P * (i + 3)\n",
    "    i = i + 1\n",
    "print(P)"
   ]
  },
  {
   "cell_type": "code",
   "execution_count": 8,
   "id": "601167aa",
   "metadata": {},
   "outputs": [
    {
     "name": "stdout",
     "output_type": "stream",
     "text": [
      "Entrer numero d'un jour entre 0 et 6 :5\n",
      "5  : Samedi\n"
     ]
    }
   ],
   "source": [
    "#2-\n",
    "day = int(input(\"Entrer numero d'un jour entre 0 et 6 :\"))\n",
    "\n",
    "if day == 0 :\n",
    "    print(day , ' : Lundi')\n",
    "elif day == 1 :\n",
    "    print(day , ' : Mardi')\n",
    "elif day == 2 :\n",
    "    print(day , ' : Mercredi')\n",
    "elif day == 3 :\n",
    "    print(day , ' : Jeudi')\n",
    "elif day == 4 :\n",
    "    print(day , ' : Vendredi')\n",
    "elif day == 5 :\n",
    "    print(day , ' : Samedi')\n",
    "elif day == 6 :\n",
    "    print(day , ' : Dimanche')\n",
    "else : \n",
    "    print('Weekend')"
   ]
  },
  {
   "cell_type": "code",
   "execution_count": 9,
   "id": "387cbfb9",
   "metadata": {},
   "outputs": [
    {
     "name": "stdout",
     "output_type": "stream",
     "text": [
      "Entrer mois de l'annee entre 0 et 11:8\n",
      "8  : Septembre\n",
      "Ce mois compte 30 jours\n"
     ]
    }
   ],
   "source": [
    "#3-\n",
    "m = int(input(\"Entrer mois de l'annee entre 0 et 11:\"))\n",
    "\n",
    "if m == 0 :\n",
    "    print(m , ' : Janvier')\n",
    "    print('Ce mois compte 31 jours')\n",
    "elif m == 1 :\n",
    "    print(m , ' : Février')\n",
    "    print('Ce mois compte 28 jours')\n",
    "elif m == 2 :\n",
    "    print(m , ' : Mars')\n",
    "    print('Ce mois compte 31 jours')\n",
    "elif m == 3 :\n",
    "    print(m , ' : Avril')\n",
    "    print('Ce mois compte 30 jours')\n",
    "elif m == 4 :\n",
    "    print(m , ' : Mai')\n",
    "    print('Ce mois compte 31 jours')\n",
    "elif m == 5 :\n",
    "    print(m , ' : Juin')\n",
    "    print('Ce mois compte 30 jours')\n",
    "elif m == 6 :\n",
    "    print(m , ' : Juillet')\n",
    "    print('Ce mois compte 31 jours')\n",
    "elif m == 7 :\n",
    "    print(m , ' : Août')\n",
    "    print('Ce mois compte 31 jours')\n",
    "elif m == 8 :\n",
    "    print(m , ' : Septembre')\n",
    "    print('Ce mois compte 30 jours')\n",
    "elif m == 9 :\n",
    "    print(m , ' : Octobre')\n",
    "    print('Ce mois compte 31 jours')\n",
    "elif m == 10 :\n",
    "    print(m , ' : Novembre')\n",
    "    print('Ce mois compte 30 jours')\n",
    "elif m == 11 :\n",
    "    print(m , ' : Décembre')\n",
    "    print('Ce mois compte 31 jours')\n"
   ]
  },
  {
   "cell_type": "code",
   "execution_count": 11,
   "id": "4e401b1c",
   "metadata": {},
   "outputs": [
    {
     "name": "stdout",
     "output_type": "stream",
     "text": [
      "HOUENAGNON Merveil\n",
      "HOUENAGNON Merveil\n",
      "HOUENAGNON Merveil\n"
     ]
    }
   ],
   "source": [
    "# 4-(first : for loop)\n",
    "for i in range(3) :\n",
    "    print(\"HOUENAGNON Merveil\")\n"
   ]
  },
  {
   "cell_type": "code",
   "execution_count": 12,
   "id": "82769fa0",
   "metadata": {},
   "outputs": [
    {
     "name": "stdout",
     "output_type": "stream",
     "text": [
      "HOUENAGNON Merveil\n",
      "HOUENAGNON Merveil\n",
      "HOUENAGNON Merveil\n"
     ]
    }
   ],
   "source": [
    "# 4-(first : while loop)\n",
    "i = 0\n",
    "while i < 3 :\n",
    "    print(\"HOUENAGNON Merveil\")\n",
    "    i = i + 1"
   ]
  },
  {
   "cell_type": "code",
   "execution_count": 25,
   "id": "cb15e2a4",
   "metadata": {},
   "outputs": [
    {
     "name": "stdout",
     "output_type": "stream",
     "text": [
      "\n",
      " la suite des 15 premiers nombres de fibonacci est :\n",
      "[0, 1, 1, 2, 3, 5, 8, 13, 21, 34, 55, 89, 144, 233, 377]\n"
     ]
    }
   ],
   "source": [
    "# 5 -\n",
    "a0 = 0\n",
    "a1 = 1\n",
    " \n",
    "print(\"\\n la suite des 15 premiers nombres de fibonacci est :\")\n",
    "tab = [a0, a1]\n",
    "for i in range(2, 15):\n",
    "  new = a0 + a1\n",
    "  tab.append(new)\n",
    "  a0 = a1\n",
    "  a1 = new\n",
    "print(tab)"
   ]
  },
  {
   "cell_type": "code",
   "execution_count": 24,
   "id": "ce7b1f90",
   "metadata": {},
   "outputs": [
    {
     "name": "stdout",
     "output_type": "stream",
     "text": [
      "\n",
      " les 30 premiers termes définies à partir de la séquence définie est:\n",
      "0\n",
      "1\n",
      "0.5\n",
      "3.25\n",
      "3.125\n",
      "11.3125\n",
      "15.03125\n",
      "41.453125\n",
      "65.8203125\n",
      "157.26953125\n",
      "276.095703125\n",
      "609.8564453125\n",
      "1133.21533203125\n",
      "2396.177001953125\n",
      "4597.7344970703125\n",
      "9487.398254394531\n",
      "18536.902618408203\n",
      "37730.646072387695\n",
      "74476.03089141846\n",
      "150429.9536628723\n",
      "298643.0695056915\n",
      "600611.3957414627\n",
      "1196234.906387806\n",
      "2399951.640418291\n",
      "4788680.539372563\n",
      "9594195.190941155\n",
      "19163139.213588268\n",
      "38364155.1796176\n",
      "76671495.2305736\n",
      "153428213.15413958\n"
     ]
    }
   ],
   "source": [
    "# 6 -\n",
    "x0 = 0\n",
    "x1 = 1\n",
    "print(\"\\n les 30 premiers termes définies à partir de la séquence définie est:\")\n",
    "print(x0)\n",
    "print(x1)\n",
    "for i in range(0, 28):\n",
    "  new = ((6*x0) + x1)/2\n",
    "  print(new)\n",
    "  x0 = x1\n",
    "  x1 = new"
   ]
  },
  {
   "cell_type": "code",
   "execution_count": 150,
   "id": "f1bfc68a",
   "metadata": {},
   "outputs": [
    {
     "name": "stdout",
     "output_type": "stream",
     "text": [
      "Entrer annee :2022\n",
      "Annee non bixestile\n"
     ]
    }
   ],
   "source": [
    "#7-(a)\n",
    "annee = int(input(\"Entrer annee :\"))\n",
    "if (annee%4 == 0 and annee%100 !=0) or annee%400 == 0 :\n",
    "    print(\"Cette annee est bixestile\")\n",
    "else:\n",
    "    print(\"Annee non bixestile\")"
   ]
  },
  {
   "cell_type": "code",
   "execution_count": 154,
   "id": "da7a5873",
   "metadata": {},
   "outputs": [
    {
     "name": "stdout",
     "output_type": "stream",
     "text": [
      "Entrer annee :2024\n",
      "True\n"
     ]
    }
   ],
   "source": [
    "#7-(b)\n",
    "annee = int(input(\"Entrer annee :\"))\n",
    "a = (annee%4 == 0 and annee%100 !=0) or annee%400 == 0\n",
    "print(a)"
   ]
  },
  {
   "cell_type": "code",
   "execution_count": 38,
   "id": "ec319b59",
   "metadata": {},
   "outputs": [
    {
     "name": "stdout",
     "output_type": "stream",
     "text": [
      "Saisir un entier :5\n",
      "55\n"
     ]
    }
   ],
   "source": [
    "#8- (a : loop while)\n",
    "n = int(input(\"Saisir un entier :\"))\n",
    "i = 1\n",
    "s = 0\n",
    "while i <= n : \n",
    "    s = s + (i*i)\n",
    "    i = i + 1\n",
    "print(s)"
   ]
  },
  {
   "cell_type": "code",
   "execution_count": 37,
   "id": "ce16fe9e",
   "metadata": {},
   "outputs": [
    {
     "name": "stdout",
     "output_type": "stream",
     "text": [
      "Saisir un entier :5\n",
      "55\n"
     ]
    }
   ],
   "source": [
    "#8- (a : loop for)\n",
    "n = int(input(\"Saisir un entier :\"))\n",
    "l = list(range(1, n+1))\n",
    "s = 0\n",
    "for i in l:\n",
    "    s = s + (i*i)\n",
    "    i = i + 1\n",
    "print(s)"
   ]
  },
  {
   "cell_type": "code",
   "execution_count": 85,
   "id": "ebac57f7",
   "metadata": {},
   "outputs": [
    {
     "name": "stdout",
     "output_type": "stream",
     "text": [
      "Saisir un entier :5\n",
      "2\n"
     ]
    }
   ],
   "source": [
    "#8- (b : while version)\n",
    "M = int(input(\"Saisir un entier :\"))\n",
    "i = 1\n",
    "s = 0\n",
    "while s < M : \n",
    "    s = s + (i*i)\n",
    "    c = i\n",
    "    i = i + 1\n",
    "print(c)"
   ]
  },
  {
   "cell_type": "code",
   "execution_count": 170,
   "id": "7e5bbd21",
   "metadata": {},
   "outputs": [
    {
     "name": "stdout",
     "output_type": "stream",
     "text": [
      "Saisir un entier :5\n",
      "49\n"
     ]
    }
   ],
   "source": [
    "#8- (b : for version)\n",
    "M = int(input(\"Saisir un entier :\"))\n",
    "for s in range(0 , M) :\n",
    "    if s < M :\n",
    "        c = i\n",
    "    s = s +  i**2\n",
    "    i = i + 1\n",
    "print(c)\n",
    "\n",
    "   \n"
   ]
  },
  {
   "cell_type": "code",
   "execution_count": 93,
   "id": "e9031f31",
   "metadata": {},
   "outputs": [
    {
     "name": "stdout",
     "output_type": "stream",
     "text": [
      "Entrer un nombre n :8\n",
      "1\n",
      "2\n",
      "4\n",
      "8\n"
     ]
    }
   ],
   "source": [
    "#9- (a)\n",
    "n = int(input(\"Entrer un nombre n :\"))\n",
    "l = list(range(1 , n+1))\n",
    "for i in l :\n",
    "    if n%i == 0 :\n",
    "        print(i)"
   ]
  },
  {
   "cell_type": "code",
   "execution_count": 94,
   "id": "cb2a48c8",
   "metadata": {},
   "outputs": [
    {
     "name": "stdout",
     "output_type": "stream",
     "text": [
      "Entrer un nombre n :8\n",
      "15\n"
     ]
    }
   ],
   "source": [
    "#9 -(b)\n",
    "n = int(input(\"Entrer un nombre n :\"))\n",
    "s = 0\n",
    "l = list(range(1 , n+1))\n",
    "for i in l :\n",
    "    if n%i == 0 :\n",
    "        s = s + i\n",
    "print(s) "
   ]
  },
  {
   "cell_type": "code",
   "execution_count": 95,
   "id": "a1ec4bcb",
   "metadata": {},
   "outputs": [
    {
     "name": "stdout",
     "output_type": "stream",
     "text": [
      "Entrer un nombre n entre 0 et 9:4\n",
      "Entrer le nombre où on s'arrêtera :12\n",
      "4 x 0  =  0\n",
      "4 x 1  =  4\n",
      "4 x 2  =  8\n",
      "4 x 3  =  12\n",
      "4 x 4  =  16\n",
      "4 x 5  =  20\n",
      "4 x 6  =  24\n",
      "4 x 7  =  28\n",
      "4 x 8  =  32\n",
      "4 x 9  =  36\n",
      "4 x 10  =  40\n",
      "4 x 11  =  44\n",
      "4 x 12  =  48\n"
     ]
    }
   ],
   "source": [
    "#10 -\n",
    "n = int(input(\"Entrer un nombre n entre 0 et 9:\"))\n",
    "N = int(input(\"Entrer le nombre où on s'arrêtera :\"))\n",
    "i = 0\n",
    "while i <= N :\n",
    "    t = n*i\n",
    "    print(n , 'x' , i, ' = ' , t )\n",
    "    i = i + 1"
   ]
  },
  {
   "cell_type": "code",
   "execution_count": 167,
   "id": "b47995c2",
   "metadata": {},
   "outputs": [
    {
     "name": "stdout",
     "output_type": "stream",
     "text": [
      "[3, 6, 7, 9, 11, 12, 14, 15, 18, 21, 22, 24, 27, 28, 30, 33, 35, 36, 39]\n"
     ]
    }
   ],
   "source": [
    "#11\n",
    "tab =[]\n",
    "for i in range(1, 40+1):\n",
    "    if i%3 == 0 or i%7 == 0 or i%11 ==0:\n",
    "        tab.append(i)\n",
    "print(tab)"
   ]
  },
  {
   "cell_type": "code",
   "execution_count": 158,
   "id": "8d0724c7",
   "metadata": {},
   "outputs": [
    {
     "name": "stdout",
     "output_type": "stream",
     "text": [
      "x = 18.567\n",
      "E(x) =  18\n"
     ]
    }
   ],
   "source": [
    "#12\n",
    "a = float(input(\"x = \"))\n",
    "print(\"E(x) = \", int(a))"
   ]
  },
  {
   "cell_type": "code",
   "execution_count": 126,
   "id": "fa9595dc",
   "metadata": {},
   "outputs": [
    {
     "name": "stdout",
     "output_type": "stream",
     "text": [
      "Abscisse :4\n",
      "Ordonnée :4\n",
      "Cadran 1\n",
      "Reprendre oui (0) ou non (1) :0\n",
      "Abscisse :5\n",
      "Ordonnée :5\n",
      "Cadran 1\n",
      "Reprendre oui (0) ou non (1) :0\n",
      "Abscisse :-5\n",
      "Ordonnée :-5\n",
      "Cadrant 3\n",
      "Reprendre oui (0) ou non (1) :1\n"
     ]
    }
   ],
   "source": [
    "#13\n",
    "i = 0\n",
    "while i != 1 :\n",
    "    a = float(input(\"Abscisse :\"))\n",
    "    b = float(input(\"Ordonnée :\"))\n",
    "\n",
    "    if a > 0 and b > 0 :\n",
    "        print(\"Cadran 1\")\n",
    "    elif a > 0 and b < 0 :\n",
    "        print(\"Cadran 2\")\n",
    "    elif a < 0 and b < 0 :\n",
    "        print(\"Cadrant 3\")\n",
    "    elif a < 0 and b >0 :\n",
    "        print(\"Cadrant 4\")\n",
    "    else :\n",
    "        print(\"Origine\")\n",
    "    i = int(input(\"Reprendre oui (0) ou non (1) :\"))"
   ]
  },
  {
   "cell_type": "code",
   "execution_count": null,
   "id": "cfb832d6",
   "metadata": {},
   "outputs": [
    {
     "name": "stdout",
     "output_type": "stream",
     "text": [
      "Donner nombre entre 0 et 9 :5\n",
      "Donner nombre entre 0 et 255 :15\n",
      "[5, 10, 15]\n"
     ]
    }
   ],
   "source": [
    "#14\n",
    "i = 0\n",
    "\n",
    "while i != 1 :\n",
    "    j = 0\n",
    "    while j != 1 :\n",
    "        x = int(input(\"Donner nombre entre 0 et 9 :\"))\n",
    "        if (x<0) or (x>9) :\n",
    "            j = 0\n",
    "        else :\n",
    "            j = 1\n",
    "    j = 0        \n",
    "    while j != 1 :\n",
    "        max = int(input(\"Donner nombre entre 0 et 255 :\"))\n",
    "        if max < 0 or max > 255 :\n",
    "            j = 0\n",
    "        else : \n",
    "            j = 1\n",
    "    tab = []\n",
    "    for l in range(1, max+1):\n",
    "        if l%x == 0 :\n",
    "            tab.append(l)\n",
    "    print(tab)\n",
    "    \n",
    "    i = int(input(\"Reprendre oui (0) ou non (1) :\"))"
   ]
  },
  {
   "cell_type": "code",
   "execution_count": null,
   "id": "5053f907",
   "metadata": {},
   "outputs": [],
   "source": []
  }
 ],
 "metadata": {
  "kernelspec": {
   "display_name": "Python 3 (ipykernel)",
   "language": "python",
   "name": "python3"
  },
  "language_info": {
   "codemirror_mode": {
    "name": "ipython",
    "version": 3
   },
   "file_extension": ".py",
   "mimetype": "text/x-python",
   "name": "python",
   "nbconvert_exporter": "python",
   "pygments_lexer": "ipython3",
   "version": "3.8.10"
  }
 },
 "nbformat": 4,
 "nbformat_minor": 5
}
