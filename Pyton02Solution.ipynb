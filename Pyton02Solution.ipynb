{
 "cells": [
  {
   "cell_type": "code",
   "execution_count": 4,
   "id": "88b6953e",
   "metadata": {},
   "outputs": [
    {
     "name": "stdout",
     "output_type": "stream",
     "text": [
      "Entrer x =4\n",
      "Entrer y =4\n",
      "Résultat : -3.539188265487894\n"
     ]
    }
   ],
   "source": [
    "#1\n",
    "import math\n",
    "x = float(input(\"Entrer x =\"))\n",
    "y = float(input(\"Entrer y =\"))\n",
    "\n",
    "num = math.sqrt(x**2  + y )\n",
    "den = (1/x) + 2*math.sin(y)\n",
    "\n",
    "result = num/den\n",
    "\n",
    "print(\"Résultat :\", result)"
   ]
  },
  {
   "cell_type": "code",
   "execution_count": 9,
   "id": "6fb70fef",
   "metadata": {
    "scrolled": true
   },
   "outputs": [
    {
     "name": "stdout",
     "output_type": "stream",
     "text": [
      "Le second paramètre doit être positif\n"
     ]
    }
   ],
   "source": [
    "#2\n",
    "def ownpowerfn(b , n) :\n",
    "    \"\"\"Calcul b a la puissance n\"\"\"\n",
    "    if n < 0 :\n",
    "        print(\"Le second paramètre doit être positif\")\n",
    "    else : \n",
    "        r = b**n\n",
    "        print(b,\"^\",n , \" = \", r)\n",
    "ownpowerfn(2, -2)"
   ]
  },
  {
   "cell_type": "code",
   "execution_count": 10,
   "id": "a27a0f15",
   "metadata": {},
   "outputs": [],
   "source": [
    "#3a\n",
    "def geometric_mean(x , y):\n",
    "    return (x*y)**(0.5)"
   ]
  },
  {
   "cell_type": "code",
   "execution_count": 14,
   "id": "17283a13",
   "metadata": {},
   "outputs": [
    {
     "name": "stdout",
     "output_type": "stream",
     "text": [
      "59.0\n"
     ]
    }
   ],
   "source": [
    "#3b\n",
    "def celcius_to_fahrenheit(C) :\n",
    "    \"\"\"Convertit les °C en °F\"\"\"\n",
    "    F=(C*9/5)+32\n",
    "    return F\n",
    "\n",
    "print(celcius_to_fahrenheit(15))"
   ]
  },
  {
   "cell_type": "code",
   "execution_count": 16,
   "id": "a2e0300f",
   "metadata": {},
   "outputs": [
    {
     "name": "stdout",
     "output_type": "stream",
     "text": [
      "15.0\n"
     ]
    }
   ],
   "source": [
    "#3b\n",
    "def fahrenheit_to_celcius(F) :\n",
    "    \"\"\"Convertit les °C en °F\"\"\"\n",
    "    C = ((F - 32)*5)/9\n",
    "    return C\n",
    "\n",
    "print(fahrenheit_to_celcius(59))"
   ]
  },
  {
   "cell_type": "code",
   "execution_count": 17,
   "id": "58105ba6",
   "metadata": {},
   "outputs": [],
   "source": [
    "#3c\n",
    "def degrees_to_radians(d):\n",
    "    return 0.0174533*d\n",
    "\n",
    "def radians_to_degrees(r):\n",
    "    return 57.296*r\n"
   ]
  },
  {
   "cell_type": "code",
   "execution_count": 18,
   "id": "c18627bf",
   "metadata": {},
   "outputs": [],
   "source": [
    "#3d\n",
    "def circumference(r):\n",
    "    return 3.14*2*r\n",
    "\n",
    "def area(r):\n",
    "    return3.14*(r**2)"
   ]
  },
  {
   "cell_type": "code",
   "execution_count": 1,
   "id": "923388cf",
   "metadata": {},
   "outputs": [
    {
     "name": "stdout",
     "output_type": "stream",
     "text": [
      "Arithmetic Mean =  10.5105\tGeometric Mean =  4.584866410267589\n",
      "Arithmetic Mean =  7.5476832051337945\tGeometric Mean =  3.885275590002283\n",
      "Arithmetic Mean =  5.716479397568039\tGeometric Mean =  3.3812658569145486\n",
      "Arithmetic Mean =  4.548872627241294\tGeometric Mean =  3.0162468822168034\n",
      "Arithmetic Mean =  3.7825597547290486\tGeometric Mean =  2.7504762332109136\n",
      "Arithmetic Mean =  3.2665179939699813\tGeometric Mean =  2.5559804357506266\n",
      "Arithmetic Mean =  2.911249214860304\tGeometric Mean =  2.4129853770217107\n",
      "Arithmetic Mean =  2.662117295941007\tGeometric Mean =  2.3074303005469123\n",
      "Arithmetic Mean =  2.4847737982439595\tGeometric Mean =  2.2292482132970117\n",
      "Arithmetic Mean =  2.3570110057704854\tGeometric Mean =  2.1711798662342487\n"
     ]
    }
   ],
   "source": [
    "#4a\n",
    "def avggeom(x, y):\n",
    "    a_m = (x+y)/2\n",
    "    g_m = (x+y)**0.5\n",
    "    \n",
    "    print(\"Arithmetic Mean = \", a_m, end ='\\t')\n",
    "    print(\"Geometric Mean = \",g_m)\n",
    "    return a_m, g_m\n",
    "\n",
    "a, b = 6.021, 15\n",
    "\n",
    "for i in range(10):\n",
    "    temp = avggeom(a, b)\n",
    "    a = temp[0]\n",
    "    b = temp[1]\n"
   ]
  },
  {
   "cell_type": "code",
   "execution_count": 2,
   "id": "2f213971",
   "metadata": {},
   "outputs": [
    {
     "name": "stdout",
     "output_type": "stream",
     "text": [
      "Perimètre =  13.416407864998739\n",
      "Aire =  3.3541019662496847\n"
     ]
    }
   ],
   "source": [
    "#4b\n",
    "def distancefn(a, b):\n",
    "    x1, y1, x2, y2 = a[0], a[1], b[0], b[1]\n",
    "    \n",
    "    return (((x2 - x1)**2) + ((y2 - y1)**2))**(0.5)\n",
    "\n",
    "A = (1, 2)\n",
    "B = (2, 4)\n",
    "C = (4, 8)\n",
    "\n",
    "perimeter = (distancefn(A , B) + distancefn(B , C))*2\n",
    "print(\"Perimètre = \", perimeter)\n",
    "\n",
    "area = (distancefn(A,B) + distancefn(B, C))/2\n",
    "print(\"Aire = \", area)"
   ]
  },
  {
   "cell_type": "code",
   "execution_count": null,
   "id": "334c11ab",
   "metadata": {},
   "outputs": [],
   "source": [
    "#5\n",
    "\n",
    "def fac2nddeg():\n",
    "    choice = 1\n",
    "    \n",
    "    while choice in {1,2}:\n",
    "        print(\"---------------------Menu-----------------------\")\n",
    "        print(\"1. Evaluation d'un factoriel \")\n",
    "        print(\"2. Evaluationvd'un polynome\")\n",
    "        print(\"3. Quitter\")\n",
    "        choice = int(input(\"\\nFaites un choix : \"))\n",
    "        \n",
    "        if choice == 1:\n",
    "            n = int(input(\"Entrez un entier (>= 0) :\"))\n",
    "            while n < 0:\n",
    "                n = int(input(\"Entrez un entier(n>=0):\"))\n",
    "                \n",
    "            if n == 0:\n",
    "                print(\"0! = 1\")\n",
    "            else:\n",
    "                factorial = 1\n",
    "                \n",
    "                for i in range(1, n+1):\n",
    "                    factorial *=i\n",
    "                print(n, \"!=\", factorial)\n",
    "        elif choice == 2: \n",
    "            a = int(input(\"Entrez le coefficient de x^2 :\"))\n",
    "            b = int(input(\"Entrez le coefficient de x :\"))\n",
    "            c = int(input(\"Entrez le dernier coefficient :\"))\n",
    "            x = int(input(\"Entrez la valeur de x :\"))\n",
    "            result = a*(x**2) + b*x + c\n",
    "            \n",
    "            print(\"\\n P(\", x , \")=\", a, \"*(\",x,\"^2) + \", b, \"*\", x, \" + \", c, \"=\", result)\n",
    "            \n",
    "fac2nddeg()\n",
    "            "
   ]
  },
  {
   "cell_type": "code",
   "execution_count": 13,
   "id": "ae047a32",
   "metadata": {},
   "outputs": [],
   "source": [
    "#6\n",
    "def power(x , n) :\n",
    "    \n",
    "    if n == 0 :\n",
    "        return 1\n",
    "    else :\n",
    "        return x*power(x , n-1)"
   ]
  },
  {
   "cell_type": "code",
   "execution_count": 12,
   "id": "a4288553",
   "metadata": {},
   "outputs": [],
   "source": [
    "# 7\n",
    "def fibonnacci(n) :\n",
    "    \n",
    "    a, b = 0, 1\n",
    "    \n",
    "    if n >= 0 :\n",
    "        \n",
    "        if n == 0 :\n",
    "            printtt(n)\n",
    "        elif n == 1 :\n",
    "            print(a,\"\\t\", b)\n",
    "        else:\n",
    "            print(a,\"\\t\", b, end = \"\\t\")\n",
    "            for i in range (2, n): \n",
    "                suivant = a+b\n",
    "                print(suivant, end = \"\\t\")\n",
    "                a = b\n",
    "                b = suivant\n",
    "                \n",
    "            \n",
    "            \n"
   ]
  },
  {
   "cell_type": "code",
   "execution_count": null,
   "id": "c4047327",
   "metadata": {},
   "outputs": [],
   "source": []
  }
 ],
 "metadata": {
  "kernelspec": {
   "display_name": "Python 3 (ipykernel)",
   "language": "python",
   "name": "python3"
  },
  "language_info": {
   "codemirror_mode": {
    "name": "ipython",
    "version": 3
   },
   "file_extension": ".py",
   "mimetype": "text/x-python",
   "name": "python",
   "nbconvert_exporter": "python",
   "pygments_lexer": "ipython3",
   "version": "3.8.10"
  }
 },
 "nbformat": 4,
 "nbformat_minor": 5
}
