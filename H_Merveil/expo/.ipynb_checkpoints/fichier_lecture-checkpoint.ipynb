{
 "cells": [
  {
   "cell_type": "code",
   "execution_count": 28,
   "id": "1cc27c29",
   "metadata": {},
   "outputs": [
    {
     "ename": "SyntaxError",
     "evalue": "invalid syntax (157661754.py, line 28)",
     "output_type": "error",
     "traceback": [
      "\u001b[0;36m  Input \u001b[0;32mIn [28]\u001b[0;36m\u001b[0m\n\u001b[0;31m    if os.path.exists(\"new.txt\")\u001b[0m\n\u001b[0m                                ^\u001b[0m\n\u001b[0;31mSyntaxError\u001b[0m\u001b[0;31m:\u001b[0m invalid syntax\n"
     ]
    }
   ],
   "source": [
    "import os\n",
    "#ouvrir en lecture simple\n",
    "doc = open(\"mon\", \"r\")\n",
    "\n",
    "#afficher doc\n",
    "#print(doc.read())\n",
    "\n",
    "#ouvrir dans un répertoire\n",
    "doc = open(\"../toto.txt\")\n",
    "\n",
    "#afficher 10 caractere dans doc\n",
    "#print(doc.read(10))\n",
    "\n",
    "#lire une ligne\n",
    "#print(doc.readline())\n",
    "\n",
    "#lire ligne par ligne\n",
    "for ligne in doc:\n",
    "    print(ligne)\n",
    "\n",
    "#fermer le fichier\n",
    "doc.close\n",
    "\n",
    "#creer un fichier\n",
    "fichier = open(\"new.txt\", \"w\")\n",
    "\n",
    "#Vérifier existence d'un fichier\n",
    "if os.path.exists(\"new.txt\") :\n",
    "    print(\"Fichier existe\")\n",
    "else : \n",
    "    print(\"Fichier n'existe pas\")"
   ]
  },
  {
   "cell_type": "code",
   "execution_count": null,
   "id": "21429a22",
   "metadata": {},
   "outputs": [],
   "source": []
  },
  {
   "cell_type": "code",
   "execution_count": null,
   "id": "a8efc6b5",
   "metadata": {},
   "outputs": [],
   "source": []
  }
 ],
 "metadata": {
  "kernelspec": {
   "display_name": "Python 3 (ipykernel)",
   "language": "python",
   "name": "python3"
  },
  "language_info": {
   "codemirror_mode": {
    "name": "ipython",
    "version": 3
   },
   "file_extension": ".py",
   "mimetype": "text/x-python",
   "name": "python",
   "nbconvert_exporter": "python",
   "pygments_lexer": "ipython3",
   "version": "3.8.10"
  }
 },
 "nbformat": 4,
 "nbformat_minor": 5
}
