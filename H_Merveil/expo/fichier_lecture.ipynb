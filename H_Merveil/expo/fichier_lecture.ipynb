{
 "cells": [
  {
   "cell_type": "code",
   "execution_count": 30,
   "id": "1cc27c29",
   "metadata": {},
   "outputs": [
    {
     "name": "stdout",
     "output_type": "stream",
     "text": [
      "Je vous aime\n",
      "\n",
      "Je vous aime\n",
      "\n",
      "Je vous aime\n",
      "\n",
      "Je vous aime\tJe vous aime\n",
      "\n",
      "Je vous aime\n",
      "\n",
      "Je vous aimeœ\tJe vous aime\n",
      "\n",
      "\n",
      "\n",
      "CoolCool\n",
      "Fichier n'existe pas\n"
     ]
    }
   ],
   "source": [
    "import os\n",
    "#ouvrir en lecture simple\n",
    "doc = open(\"mon\", \"r\")\n",
    "\n",
    "#afficher doc\n",
    "#print(doc.read())\n",
    "\n",
    "#ouvrir dans un répertoire\n",
    "doc = open(\"../toto.txt\")\n",
    "\n",
    "#afficher 10 caractere dans doc\n",
    "#print(doc.read(10))\n",
    "\n",
    "#lire une ligne\n",
    "#print(doc.readline())\n",
    "\n",
    "#lire ligne par ligne\n",
    "for ligne in doc:\n",
    "    print(ligne)\n",
    "\n",
    "#fermer le fichier\n",
    "doc.close\n",
    "\n",
    "#creer un fichier\n",
    "fichier = open(\"new.txt\", \"w\")\n",
    "\n",
    "#Vérifier existence d'un fichier\n",
    "if os.path.exists(\"new2.txt\") :\n",
    "    print(\"Fichier existe\")\n",
    "else : \n",
    "    print(\"Fichier n'existe pas\")"
   ]
  },
  {
   "cell_type": "code",
   "execution_count": null,
   "id": "21429a22",
   "metadata": {},
   "outputs": [],
   "source": []
  },
  {
   "cell_type": "code",
   "execution_count": null,
   "id": "18049918",
   "metadata": {},
   "outputs": [],
   "source": []
  }
 ],
 "metadata": {
  "kernelspec": {
   "display_name": "Python 3 (ipykernel)",
   "language": "python",
   "name": "python3"
  },
  "language_info": {
   "codemirror_mode": {
    "name": "ipython",
    "version": 3
   },
   "file_extension": ".py",
   "mimetype": "text/x-python",
   "name": "python",
   "nbconvert_exporter": "python",
   "pygments_lexer": "ipython3",
   "version": "3.8.10"
  }
 },
 "nbformat": 4,
 "nbformat_minor": 5
}
